{
  "cells": [
    {
      "cell_type": "code",
      "source": [
        "# As simple as possible"
      ],
      "metadata": {
        "id": "-8CccBVQT5YF"
      },
      "execution_count": null,
      "outputs": []
    },
    {
      "cell_type": "markdown",
      "source": [
        "# **Git, GitHub & GitLab**\n",
        "\n",
        "**PENGENALAN**\n",
        "\n",
        "**Git** adalah version control system untuk source code project kita. Version control system sendiri fungsinya adalah untuk mengelola setiap perubahan yang kita lakukan pada local repository di device kita untuk langsung di publish ke repository online. Singkatnya, kalau kamu buat perubahan dengan Git di repo lokal, repo online nya juga otomatis berubah (selama masih ada kuota).\n",
        "\n",
        "**GitHub** ini adalah platform UI (user-friendly) nya si Git tadi. Soalnya kalau kamu baca dokumentasi perubahan project mu dalam bentuk kode kan bisa pening ya, bosan lagi. Dan bonusnya, GitHub ini menambahkan fungsi untuk kolaborasi dalam project kamu. Jadi kamu bisa pilih siapa saja yang terlibat dalam project kamu, mau kamu sendirian, bareng teman, kolega, atau random people, terserah. Nah, makanya banyak perusahaan yang memanfaatkan platform ini sebagai ruang kerja nya developer.\n",
        "\n",
        "**GitLab** ini hampir sama dengan GitHub. Tapi bedanya kalau GitHub lebih fokus pada kolaborasi tim, nah, si GitLab ini sendiri lebih fokus dalam pengembangan software. Dan juga project yang kamu buat di sini sifatnya pribadi dan kamulah sebagai admin yang bisa mengontrol semuanya tentang project kamu.\n",
        "\n",
        "**Quick tip**💡 : Untuk memilih platform mana yang akan kamu gunakan bisa disesuaikan dengan kebutuhan kamu ya. Biasanya orang menggunakan GitHub karena mudah dalam berkolaborasi dan gak jarang juga sebagai sarana show off ke developer lain. Kalau misalnya kamu lebih mau yang private, kamu bisa pilih GitLab ya. Asal kamu punya device dan koneksi internet, dua-duanya bisa diakses dengan mudah kok."
      ],
      "metadata": {
        "id": "isFUgY4KSFEq"
      }
    },
    {
      "cell_type": "markdown",
      "source": [
        "# **GitHub 101**\n"
      ],
      "metadata": {
        "id": "913Bb1alRd6M"
      }
    },
    {
      "cell_type": "markdown",
      "source": [
        "📃 ***LISENSI***\n",
        "\n",
        "Banyaknya istilah dalam lisensi GitHub memang jadi beban pikiran ya, terutama kalau baru mau buat repo. Berikut beberapa fungsi license yang umum di GitHub.\n",
        "\n",
        "\n",
        "1.   **MIT License** : kode kamu bebas diambil dan digunakan oleh orang lain selama masih mencantumkan lisensi dan copyright yang asli.\n",
        "2.   **Apache License** : hampir sama dengan MIT License, tapi juga harus mencantumkan perubahan-perubahan yang dibuat.\n",
        "3.   **GNU GPLv3 License** : tidak boleh digunakan untuk repo yang bersifat private, wajib mencantumkan perubahan-perubahan yang dibuat dan juga wajib mencantumkan lisensi dan copyright yang asli.\n",
        "\n",
        "\n"
      ],
      "metadata": {
        "id": "8YdT-bwdRxws"
      }
    }
  ],
  "metadata": {
    "colab": {
      "provenance": []
    },
    "kernelspec": {
      "display_name": "Python 3",
      "name": "python3"
    }
  },
  "nbformat": 4,
  "nbformat_minor": 0
}